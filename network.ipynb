{
 "cells": [
  {
   "cell_type": "code",
   "execution_count": 8,
   "id": "initial_id",
   "metadata": {
    "collapsed": true,
    "ExecuteTime": {
     "end_time": "2024-03-14T16:48:05.117033Z",
     "start_time": "2024-03-14T16:48:04.613813Z"
    }
   },
   "outputs": [],
   "source": [
    "import pandas as pd\n",
    "import json\n",
    "from itertools import combinations\n",
    "from collections import defaultdict\n",
    "\n",
    "# Function to clean and split investor names\n",
    "def clean_and_split(investors_str):\n",
    "    return [investor.strip() for investor in investors_str.split('+')] if pd.notnull(investors_str) else []\n",
    "\n",
    "# Load the data\n",
    "df = pd.read_csv(\"~/raises.csv\")\n",
    "\n",
    "# Keeping track of co-investments between VC funds and total investments\n",
    "co_investments = defaultdict(int)\n",
    "total_investments = defaultdict(lambda: defaultdict(int))  # Structure: {VC1: {VC2: deals, VC3: deals}, VC2: {...}}\n",
    "\n",
    "# Process the dataframe\n",
    "for _, row in df.iterrows():\n",
    "    investors = clean_and_split(row['Lead Investor']) + clean_and_split(row['Other Investors'])\n",
    "    for investor_a, investor_b in combinations(set(investors), 2):\n",
    "        co_investments[(investor_a, investor_b)] += 1\n",
    "        total_investments[investor_a][investor_b] += 1\n",
    "        total_investments[investor_b][investor_a] += 1\n",
    "\n",
    "# Preparing nodes and links for JSON\n",
    "nodes = [{\"id\": investor, \"group\": 1} for investor in set(total_investments.keys())]\n",
    "links = [{\"source\": a, \"target\": b, \"value\": deals} for (a, b), deals in co_investments.items()]\n",
    "\n",
    "# Export to JSON\n",
    "graph_data = {\"nodes\": nodes, \"links\": links}\n",
    "with open(\"vc_investments_graph.json\", \"w\") as f:\n",
    "    json.dump(graph_data, f, indent=4)"
   ]
  },
  {
   "cell_type": "code",
   "execution_count": null,
   "outputs": [],
   "source": [],
   "metadata": {
    "collapsed": false
   },
   "id": "2e1171000a1c337c"
  }
 ],
 "metadata": {
  "kernelspec": {
   "display_name": "Python 3",
   "language": "python",
   "name": "python3"
  },
  "language_info": {
   "codemirror_mode": {
    "name": "ipython",
    "version": 2
   },
   "file_extension": ".py",
   "mimetype": "text/x-python",
   "name": "python",
   "nbconvert_exporter": "python",
   "pygments_lexer": "ipython2",
   "version": "2.7.6"
  }
 },
 "nbformat": 4,
 "nbformat_minor": 5
}
